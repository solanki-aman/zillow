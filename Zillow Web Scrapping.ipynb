{
 "cells": [
  {
   "cell_type": "code",
   "execution_count": 1,
   "metadata": {},
   "outputs": [],
   "source": [
    "import pandas as pd\n",
    "import numpy as np\n",
    "import seaborn as sns\n",
    "import time\n",
    "import datetime\n",
    "import random\n",
    "import matplotlib.pylab as plt\n",
    "\n",
    "#data collection\n",
    "from bs4 import BeautifulSoup\n",
    "import requests\n",
    "import re"
   ]
  },
  {
   "cell_type": "code",
   "execution_count": 3,
   "metadata": {},
   "outputs": [],
   "source": [
    "cities = ['Hayward', 'Fremont']\n",
    "\n",
    "common_url = 'https://www.zillow.com/homes/for_sale/'\n",
    "\n",
    "url_list = []\n",
    "for city in cities:\n",
    "    #url_list.append(common_url+city+\"/ca\") #for page 1\n",
    "    url_list.append(common_url+city+\"/ca/2_p/\") #for page 2"
   ]
  },
  {
   "cell_type": "code",
   "execution_count": 4,
   "metadata": {},
   "outputs": [],
   "source": [
    "req_headers = {\n",
    "    'Aman-Solanki'\n",
    "    'accept': 'text/html,application/xhtml+xml,application/xml;q=0.9,image/webp,image/apng,*/*;q=0.8',\n",
    "    'accept-encoding': 'gzip, deflate, br',\n",
    "    'accept-language': 'en-US,en;q=0.8',\n",
    "    'upgrade-insecure-requests': '1',\n",
    "    'user-agent': 'Mozilla/5.0 (Windows NT 10.0; Win64; x64) AppleWebKit/537.36 (KHTML, like Gecko) Chrome/61.0.3163.100 Aman-Solanki'\n",
    "}\n",
    "\n",
    "s = requests.Session()\n",
    "link=[] #list to store listing url\n",
    "listingAgent=[] #list to store the listing company of the property\n",
    "temp=[] #temperory list to append all the collected data\n",
    "\n",
    "for url in url_list:\n",
    "    r = s.get(url, headers=req_headers)\n",
    "    soup = BeautifulSoup(r.content, 'html.parser')\n",
    "    for i in soup.findAll(class_=\"list-card-link list-card-link-top-margin list-card-img\"):\n",
    "        link.append(i.get('href')) #appends urls to link list\n",
    "    for i in soup:\n",
    "        listingCompany = soup.find_all('div', attrs={'class': 'list-card-truncate'})\n",
    "        for i in listingCompany:\n",
    "            company = i.text\n",
    "            temp.append(company)\n",
    "            temp = temp[:len(link)] #appends listing companies for only the accounted links\n",
    "\n",
    "listingAgent.extend(temp) #adds all the temp elements to listingAgent list"
   ]
  },
  {
   "cell_type": "code",
   "execution_count": 5,
   "metadata": {},
   "outputs": [
    {
     "name": "stdout",
     "output_type": "stream",
     "text": [
      "80 links generated.\n"
     ]
    }
   ],
   "source": [
    "print(len(link), 'links generated.')"
   ]
  },
  {
   "cell_type": "code",
   "execution_count": 6,
   "metadata": {},
   "outputs": [],
   "source": [
    "chunks = [link[x:x+8] for x in range(0, len(link), 8)] #creates 10 lists with 8 links in each list"
   ]
  },
  {
   "cell_type": "code",
   "execution_count": 7,
   "metadata": {},
   "outputs": [
    {
     "data": {
      "text/plain": [
       "10"
      ]
     },
     "execution_count": 7,
     "metadata": {},
     "output_type": "execute_result"
    }
   ],
   "source": [
    "len(chunks)"
   ]
  },
  {
   "cell_type": "code",
   "execution_count": 8,
   "metadata": {},
   "outputs": [
    {
     "name": "stdout",
     "output_type": "stream",
     "text": [
      "2020-10-28 14:49:04.087798\n",
      "\n",
      "\n",
      "Sleeping Now\n",
      "------------------------------------------\n",
      "\n",
      "\n",
      "Sleeping Again....\n",
      "Link:  https://www.zillow.com/homedetails/3322-D-St-Hayward-CA-94541/24967635_zpid/\n",
      "Zestimate: Not_Found\n",
      "Sleeping Again....\n",
      "Link:  https://www.zillow.com/community/promontory-at-stonebrae/2078676723_zpid/\n",
      "Zestimate: Not_Found\n"
     ]
    },
    {
     "ename": "IndexError",
     "evalue": "list index out of range",
     "output_type": "error",
     "traceback": [
      "\u001b[1;31m---------------------------------------------------------------------------\u001b[0m",
      "\u001b[1;31mIndexError\u001b[0m                                Traceback (most recent call last)",
      "\u001b[1;32m<ipython-input-8-40d0724449dd>\u001b[0m in \u001b[0;36m<module>\u001b[1;34m\u001b[0m\n\u001b[0;32m     66\u001b[0m \u001b[1;33m\u001b[0m\u001b[0m\n\u001b[0;32m     67\u001b[0m         \u001b[1;32mif\u001b[0m \u001b[0minterior_details\u001b[0m \u001b[1;33m!=\u001b[0m \u001b[1;32mNone\u001b[0m\u001b[1;33m:\u001b[0m\u001b[1;33m\u001b[0m\u001b[1;33m\u001b[0m\u001b[0m\n\u001b[1;32m---> 68\u001b[1;33m             \u001b[0mbedrooms\u001b[0m \u001b[1;33m=\u001b[0m \u001b[1;33m(\u001b[0m\u001b[0minterior_details\u001b[0m\u001b[1;33m[\u001b[0m\u001b[1;36m0\u001b[0m\u001b[1;33m]\u001b[0m\u001b[1;33m.\u001b[0m\u001b[0mtext\u001b[0m\u001b[1;33m.\u001b[0m\u001b[0msplit\u001b[0m\u001b[1;33m(\u001b[0m\u001b[1;34m' '\u001b[0m\u001b[1;33m)\u001b[0m\u001b[1;33m[\u001b[0m\u001b[1;36m1\u001b[0m\u001b[1;33m]\u001b[0m \u001b[1;32mif\u001b[0m \u001b[0minterior_details\u001b[0m\u001b[1;33m[\u001b[0m\u001b[1;36m0\u001b[0m\u001b[1;33m]\u001b[0m \u001b[1;33m!=\u001b[0m \u001b[1;32mNone\u001b[0m \u001b[1;32melse\u001b[0m \u001b[0mnull_val\u001b[0m\u001b[1;33m)\u001b[0m\u001b[1;33m\u001b[0m\u001b[1;33m\u001b[0m\u001b[0m\n\u001b[0m\u001b[0;32m     69\u001b[0m             \u001b[0mzillowData\u001b[0m\u001b[1;33m[\u001b[0m\u001b[1;34m'Bedrooms'\u001b[0m\u001b[1;33m]\u001b[0m \u001b[1;33m=\u001b[0m \u001b[0mbedrooms\u001b[0m \u001b[1;31m#adds bedrooms to dictionary\u001b[0m\u001b[1;33m\u001b[0m\u001b[1;33m\u001b[0m\u001b[0m\n\u001b[0;32m     70\u001b[0m \u001b[1;33m\u001b[0m\u001b[0m\n",
      "\u001b[1;31mIndexError\u001b[0m: list index out of range"
     ]
    }
   ],
   "source": [
    "null_val = 'Not_Found' \n",
    "start_time = datetime.datetime.now()\n",
    "\n",
    "print(start_time)\n",
    "\n",
    "zillowDataList = [] #list to store dictionary generated for each property data.\n",
    "\n",
    "s = requests.Session()\n",
    "\n",
    "for i in range(len(chunks)):\n",
    "    print('\\n')\n",
    "    print('Sleeping Now')\n",
    "    print('------------------------------------------')\n",
    "    print('\\n')\n",
    "    time.sleep(random.randint(26,30)) #sleeps after scraping 5 links\n",
    "    for j in chunks[i]:\n",
    "        zillowData = {}\n",
    "        print('Sleeping Again....')\n",
    "        time.sleep(random.randint(13,16)) #sleeps before scraping data from each link\n",
    "        r = s.get(j, headers=req_headers)\n",
    "        bs_html_data = BeautifulSoup(r.content, 'html.parser')\n",
    "\n",
    "        print('Link: ', j)\n",
    "        \n",
    "        #price\n",
    "        if bs_html_data.find('span', attrs={'class': 'ds-value'})!= None:\n",
    "            price = re.sub(\"\\D\", \"\", bs_html_data.find('span', attrs={'class': 'ds-value'}).text) \n",
    "            zillowData['Price'] = price #adds price to dictionary \n",
    "        else:\n",
    "            price = null_val\n",
    "            zillowData['Price'] = price #adds null_val if price not found\n",
    "        \n",
    "        #address\n",
    "        address_tags = bs_html_data.find_all('h1', attrs={'class': 'ds-address-container'})\n",
    "            \n",
    "        if address_tags != None:\n",
    "            address_tags = bs_html_data.find_all('h1', attrs={'class': 'ds-address-container'})\n",
    "            spans = address_tags[0].find_all('span')\n",
    "                \n",
    "        if spans != None:\n",
    "            home_address = ' '.join([_.text for _ in spans])\n",
    "\n",
    "            clean_home_address = re.sub(r'[^a-zA-Z0-9,_ ]', '', home_address)\n",
    "            zillowData['Address'] = clean_home_address #full property address\n",
    "\n",
    "            addr_line1 = clean_home_address.split(',')[0].strip() #address line 1\n",
    "\n",
    "            home_city = clean_home_address.split(',')[-2].strip() #city\n",
    "            zillowData['City'] = home_city #adds city to dictionary\n",
    "\n",
    "            zipCode = int(clean_home_address.split(',')[-1].strip().split(' ')[-1].strip()) #zipcode\n",
    "            zillowData['ZipCode'] = zipCode #adds zipcode to dictionary\n",
    "\n",
    "            state = clean_home_address.split(',')[-1].strip().split(' ')[0].strip() #state\n",
    "            zillowData['State'] = state #adds state to dictionary\n",
    "\n",
    "        #zestimate\n",
    "        zestimate = bs_html_data.find(\"p\", attrs = {\"class\":\"Text-aiai24-0 StyledParagraph-sc-18ze78a-0 eVIlQF qf5kuj-8 gfJJuM\"})\n",
    "        value=(re.sub(\"\\D\", \"\", zestimate.text) if zestimate != None else null_val)\n",
    "        zillowData['Zestimate'] = value #adds zestimate to dictionary\n",
    "        print('Zestimate:', value)\n",
    "\n",
    "        \n",
    "        #Interior details\n",
    "        interior_details = bs_html_data.find_all('span', attrs={'class': 'Text-aiai24-0 gbgvjX'}) #get interior details\n",
    "\n",
    "        if interior_details != None:\n",
    "            bedrooms = (interior_details[0].text.split(' ')[1] if interior_details[0] != None else null_val)\n",
    "            zillowData['Bedrooms'] = bedrooms #adds bedrooms to dictionary\n",
    "        \n",
    "        #adds the specified data to the dictionary, if data is not found, null_val is added instead\n",
    "        for i in interior_details:\n",
    "            text = i.text\n",
    "            if text.startswith('Total interior livable area:'):\n",
    "                area = text.split()[4] if text.split()[4] != None else null_val\n",
    "                zillowData['Living-Area'] = area  \n",
    "            if text.startswith('Bathrooms:'):\n",
    "                tBathrooms = text.split(':')[1] if text.split(':')[1] != None else null_val\n",
    "                zillowData['Total-Bathrooms'] = (int(tBathrooms))\n",
    "                homeType = text.split(':')[1] if text.split(':')[1] != None else null_val\n",
    "                zillowData['Home-Type'] = homeType \n",
    "            if text.startswith('Year built:'):\n",
    "                yearBuilt = text.split(':')[1] if text.split(':')[1] != None else null_val\n",
    "                zillowData['Year-Built'] = yearBuilt\n",
    "            if text.startswith('Utilities for property:'):\n",
    "                utilitiesProvider = text.split(':')[1] if text.split(':')[1] != None else null_val\n",
    "                zillowData['Utilities'] = utilitiesProvider\n",
    "            if text.startswith('Sunscore: Great solar potentialSun Number™:'):\n",
    "                sunScore = text.split(':')[2] if text.split(':')[2] != None else null_val\n",
    "                zillowData['Sunscore'] = sunScore\n",
    "            if text.startswith('HOA fee: $'):\n",
    "                listingHOA = text.split(':')[1] if text.split(':')[1] != None else null_val\n",
    "                zillowData['HOA'] = listingHOA\n",
    "            if text.startswith('Tax assessed value:'):\n",
    "                taxValue = text.split(':')[1] if text.split(':')[1] != None else null_val\n",
    "                zillowData['Tax-Value'] = taxValue\n",
    "            if text.startswith('Annual tax amount:'):\n",
    "                aTax = text.split(':')[1] if text.split(':')[1] != None else null_val\n",
    "                zillowData['Annual-Tax'] = aTax\n",
    "            if text.startswith('Garage spaces:'):\n",
    "                gSpace = text.split(':')[1] if text.split(':')[1] != None else null_val\n",
    "                zillowData['Garage-Spaces'] = gSpace  \n",
    "        \n",
    "        zillowDataList.append(zillowData) #appends the dictionary to the list\n",
    "\n",
    "\n",
    "\n",
    "print('Total time:',datetime.datetime.now()-start_time, 'minutes') "
   ]
  },
  {
   "cell_type": "code",
   "execution_count": null,
   "metadata": {},
   "outputs": [],
   "source": [
    "zillow = pd.DataFrame(zillowDataList, index= range(len(zillowDataList))) #creates a dataFrame the list of dictionaries\n",
    "zillow['Link'] = link #adds link column to the data frame\n",
    "zillow['Listing-Company'] = listingAgent #adds listingCompany column to the data frame"
   ]
  },
  {
   "cell_type": "code",
   "execution_count": null,
   "metadata": {},
   "outputs": [],
   "source": [
    "zillow.head(2)"
   ]
  },
  {
   "cell_type": "code",
   "execution_count": null,
   "metadata": {},
   "outputs": [],
   "source": [
    "zillow = zillow[['Address', 'City', 'ZipCode', 'State', 'Bedrooms','Price',\n",
    "                  'Listing-Company', 'HOA', 'Zestimate', 'Link',\n",
    "                  'Living-Area','Total-Bathrooms', 'Full-Bathrooms',\n",
    "                  'Half-Bathrooms', 'Garage-Spaces','Stories', 'Fireplace',\n",
    "                  'Lot-Size', 'Home-Type', 'New-Contruction','Year-Built',\n",
    "                  'Utilities', 'Sunscore', 'Annual-Tax', 'Tax-Value']]"
   ]
  },
  {
   "cell_type": "code",
   "execution_count": null,
   "metadata": {},
   "outputs": [],
   "source": []
  }
 ],
 "metadata": {
  "kernelspec": {
   "display_name": "Python 3",
   "language": "python",
   "name": "python3"
  },
  "language_info": {
   "codemirror_mode": {
    "name": "ipython",
    "version": 3
   },
   "file_extension": ".py",
   "mimetype": "text/x-python",
   "name": "python",
   "nbconvert_exporter": "python",
   "pygments_lexer": "ipython3",
   "version": "3.8.3"
  }
 },
 "nbformat": 4,
 "nbformat_minor": 4
}
